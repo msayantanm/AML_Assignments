{
 "cells": [
  {
   "cell_type": "code",
   "execution_count": 15,
   "metadata": {},
   "outputs": [],
   "source": [
    "import pandas as pd\n",
    "from sklearn.feature_extraction.text import TfidfVectorizer\n",
    "from sklearn.linear_model import LogisticRegression\n",
    "from xgboost import XGBClassifier\n",
    "from sklearn.pipeline import Pipeline\n",
    "from sklearn.model_selection import GridSearchCV\n",
    "from sklearn.metrics import classification_report, ConfusionMatrixDisplay, confusion_matrix, accuracy_score, precision_recall_curve, auc\n",
    "import matplotlib.pyplot as plt\n",
    "from sklearn.ensemble import RandomForestClassifier\n",
    "from sklearn.tree import DecisionTreeClassifier\n",
    "import mlflow\n",
    "from urllib.parse import urlparse\n",
    "import numpy as np"
   ]
  },
  {
   "cell_type": "code",
   "execution_count": 2,
   "metadata": {},
   "outputs": [],
   "source": [
    "train = pd.read_csv(r\"D:\\code\\AppliedML_assign_02\\Data\\train.csv\")\n",
    "train_X, train_y = train.text, train.spam\n",
    "\n",
    "test = pd.read_csv(r\"D:\\code\\AppliedML_assign_02\\Data\\test.csv\")\n",
    "test_X, test_y = test.text, test.spam\n",
    "\n",
    "val = pd.read_csv(r\"D:\\code\\AppliedML_assign_02\\Data\\validation.csv\")\n",
    "val_X, val_y = val.text, val.spam"
   ]
  },
  {
   "cell_type": "code",
   "execution_count": 10,
   "metadata": {},
   "outputs": [],
   "source": [
    "def eval_metrics(actual_y, pred_y):\n",
    "    precision, recall, _ = precision_recall_curve(actual_y, pred_y)\n",
    "    return auc(recall, precision)"
   ]
  },
  {
   "cell_type": "markdown",
   "metadata": {},
   "source": [
    "Fitting the model:"
   ]
  },
  {
   "cell_type": "markdown",
   "metadata": {},
   "source": [
    "1. RandomForest:"
   ]
  },
  {
   "cell_type": "code",
   "execution_count": 8,
   "metadata": {},
   "outputs": [
    {
     "name": "stdout",
     "output_type": "stream",
     "text": [
      "Fitting 3 folds for each of 9 candidates, totalling 27 fits\n",
      "Best Score: 0.9862505443037541\n",
      "Best Hyperparameters: {'rf__n_estimators': 200, 'tfidf__max_features': 5000}\n"
     ]
    }
   ],
   "source": [
    "pipeline = Pipeline([\n",
    "    ('tfidf', TfidfVectorizer()),\n",
    "    ('rf', RandomForestClassifier(random_state=1, n_estimators=100)),\n",
    "])\n",
    "\n",
    "space = dict()\n",
    "space['tfidf__max_features'] = [1000, 2000, 5000]\n",
    "space['rf__n_estimators'] = [50, 100, 200]\n",
    "\n",
    "search = GridSearchCV(pipeline, space, cv=3, verbose=1, n_jobs=-1, scoring='accuracy')\n",
    "result = search.fit(pd.concat([train_X, val_X], axis=0), pd.concat([train_y, val_y], axis=0))\n",
    "\n",
    "print('Best Score: %s' % result.best_score_)\n",
    "print('Best Hyperparameters: %s' % result.best_params_)"
   ]
  },
  {
   "cell_type": "code",
   "execution_count": 11,
   "metadata": {},
   "outputs": [
    {
     "name": "stderr",
     "output_type": "stream",
     "text": [
      "c:\\Users\\sayan\\AppData\\Local\\Programs\\Python\\Python311\\Lib\\site-packages\\_distutils_hack\\__init__.py:33: UserWarning: Setuptools is replacing distutils.\n",
      "  warnings.warn(\"Setuptools is replacing distutils.\")\n"
     ]
    },
    {
     "name": "stdout",
     "output_type": "stream",
     "text": [
      "\n",
      "Random Classifier Model (tfidf__max_features=5000.000000, rf__n_estimators=200.000000):\n",
      "Accuracy: 0.9860383944153578\n",
      "AUCPR: 0.9732585147535276 \n",
      "Confusion Matrix:\n",
      " [[866  10]\n",
      " [  6 264]] \n",
      " \n",
      "\n"
     ]
    },
    {
     "name": "stderr",
     "output_type": "stream",
     "text": [
      "Successfully registered model 'random-forest-classification-model'.\n",
      "Created version '1' of model 'random-forest-classification-model'.\n"
     ]
    }
   ],
   "source": [
    "mlflow.sklearn.autolog()\n",
    "\n",
    "rf = search.best_estimator_\n",
    "y_pred = rf.predict(test_X)\n",
    "aucpr = eval_metrics(test_y, y_pred)\n",
    "acc = accuracy_score(test_y, y_pred)\n",
    "conf = confusion_matrix(test_y, y_pred)\n",
    "\n",
    "with mlflow.start_run(run_name=f\"tfidf__max_features : {5000}, rf__n_estimators : {200}\"):\n",
    "  \n",
    "    mlflow.log_param(\"tfidf__max_features\", 5000)\n",
    "    mlflow.log_param(\"rf__n_estimators\", 200)\n",
    "    mlflow.log_metric(\"accuracy\", acc)\n",
    "    mlflow.log_metric(\"AUCPR\",aucpr)\n",
    "    mlflow.log_dict(np.array(conf).tolist(), \"confusion_matrix.json\")\n",
    "    mlflow.sklearn.log_model(rf, \"model\")\n",
    "\n",
    "    print(\"\\nRandom Classifier Model (tfidf__max_features={:f}, rf__n_estimators={:f}):\".format(5000, 200))\n",
    "    print(f\"Accuracy: {acc}\")\n",
    "    print(f\"AUCPR: {aucpr} \")\n",
    "    print(f\"Confusion Matrix:\\n {conf} \\n \\n\")\n",
    "\n",
    "    tracking_url_type_store = urlparse(mlflow.get_tracking_uri()).scheme\n",
    "    mlflow.sklearn.log_model(\n",
    "        sk_model=rf,\n",
    "        artifact_path=\"sklearn-model\",\n",
    "        registered_model_name=\"random-forest-classification-model\"\n",
    "    )\n",
    "    if tracking_url_type_store != \"file\":\n",
    "      mlflow.sklearn.log_model(rf, \"model\", registered_model_name=\"RandomForestClassifier\")\n",
    "    else:\n",
    "      mlflow.sklearn.log_model(rf, \"model\")"
   ]
  },
  {
   "cell_type": "markdown",
   "metadata": {},
   "source": [
    "2. Decision Tree:"
   ]
  },
  {
   "cell_type": "code",
   "execution_count": 12,
   "metadata": {},
   "outputs": [
    {
     "name": "stderr",
     "output_type": "stream",
     "text": [
      "2024/02/20 17:33:04 INFO mlflow.utils.autologging_utils: Created MLflow autologging run with ID '6bd7d2bdd45740aab615daef9b8e98a4', which will track hyperparameters, performance metrics, model artifacts, and lineage information for the current sklearn workflow\n",
      "2024/02/20 17:33:04 WARNING mlflow.sklearn: Unrecognized dataset type <class 'pandas.core.series.Series'>. Dataset logging skipped.\n"
     ]
    },
    {
     "name": "stdout",
     "output_type": "stream",
     "text": [
      "Fitting 3 folds for each of 12 candidates, totalling 36 fits\n"
     ]
    },
    {
     "name": "stderr",
     "output_type": "stream",
     "text": [
      "c:\\Users\\sayan\\AppData\\Local\\Programs\\Python\\Python311\\Lib\\site-packages\\joblib\\externals\\loky\\process_executor.py:752: UserWarning: A worker stopped while some jobs were given to the executor. This can be caused by a too short worker timeout or by a memory leak.\n",
      "  warnings.warn(\n",
      "2024/02/20 17:33:13 INFO mlflow.sklearn.utils: Logging the 5 best runs, 7 runs will be omitted.\n"
     ]
    },
    {
     "name": "stdout",
     "output_type": "stream",
     "text": [
      "Best Score: 0.9611525696280219\n",
      "Best Hyperparameters: {'dt__max_depth': None, 'tfidf__max_features': 1000}\n"
     ]
    }
   ],
   "source": [
    "pipeline = Pipeline([\n",
    "    ('tfidf', TfidfVectorizer()),\n",
    "    ('dt', DecisionTreeClassifier(random_state=1)),\n",
    "])\n",
    "\n",
    "space = dict()\n",
    "space['tfidf__max_features'] = [1000, 2000, 5000]\n",
    "space['dt__max_depth'] = [None, 10, 20, 30]\n",
    "\n",
    "search = GridSearchCV(pipeline, space, cv=3, verbose=1, n_jobs=-1, scoring='accuracy')\n",
    "result = search.fit(pd.concat([train_X, val_X], axis=0), pd.concat([train_y, val_y], axis=0))\n",
    "\n",
    "print('Best Score: %s' % result.best_score_)\n",
    "print('Best Hyperparameters: %s' % result.best_params_)"
   ]
  },
  {
   "cell_type": "code",
   "execution_count": 13,
   "metadata": {},
   "outputs": [
    {
     "name": "stdout",
     "output_type": "stream",
     "text": [
      "\n",
      "Decision Tree Classifier Model (tfidf__max_features=1000.000000, dt__max_depth=30.000000):\n",
      "Accuracy: 0.9633507853403142\n",
      "AUCPR: 0.9309715927083814 \n",
      "Confusion Matrix:\n",
      " [[851  25]\n",
      " [ 17 253]] \n",
      " \n",
      "\n"
     ]
    },
    {
     "name": "stderr",
     "output_type": "stream",
     "text": [
      "Successfully registered model 'decision-tree-classification-model'.\n",
      "Created version '1' of model 'decision-tree-classification-model'.\n"
     ]
    }
   ],
   "source": [
    "mlflow.sklearn.autolog()\n",
    "\n",
    "dt = search.best_estimator_\n",
    "y_pred = dt.predict(test_X)\n",
    "aucpr = eval_metrics(test_y, y_pred)\n",
    "acc = accuracy_score(test_y, y_pred)\n",
    "conf = confusion_matrix(test_y, y_pred)\n",
    "\n",
    "with mlflow.start_run(run_name=f\"tfidf__max_features : {1000}, dt__max_depth : {30}\"):\n",
    "  \n",
    "    mlflow.log_param(\"tfidf__max_features\", 1000)\n",
    "    mlflow.log_param(\"dt__max_depth\", 30)\n",
    "    mlflow.log_metric(\"accuracy\", acc)\n",
    "    mlflow.log_metric(\"AUCPR\",aucpr)\n",
    "    mlflow.log_dict(np.array(conf).tolist(), \"confusion_matrix.json\")\n",
    "    mlflow.sklearn.log_model(dt, \"model\")\n",
    "\n",
    "    print(\"\\nDecision Tree Classifier Model (tfidf__max_features={:f}, dt__max_depth={:f}):\".format(1000, 30))\n",
    "    print(f\"Accuracy: {acc}\")\n",
    "    print(f\"AUCPR: {aucpr} \")\n",
    "    print(f\"Confusion Matrix:\\n {conf} \\n \\n\")\n",
    "\n",
    "    tracking_url_type_store = urlparse(mlflow.get_tracking_uri()).scheme\n",
    "    mlflow.sklearn.log_model(\n",
    "        sk_model=dt,\n",
    "        artifact_path=\"sklearn-model\",\n",
    "        registered_model_name=\"decision-tree-classification-model\"\n",
    "    )\n",
    "    if tracking_url_type_store != \"file\":\n",
    "      mlflow.sklearn.log_model(dt, \"model\", registered_model_name=\"DecisionTreeClassifier\")\n",
    "    else:\n",
    "      mlflow.sklearn.log_model(dt, \"model\")"
   ]
  },
  {
   "cell_type": "markdown",
   "metadata": {},
   "source": [
    "3. XGBoost:"
   ]
  },
  {
   "cell_type": "code",
   "execution_count": 19,
   "metadata": {},
   "outputs": [
    {
     "name": "stderr",
     "output_type": "stream",
     "text": [
      "2024/02/20 17:39:39 WARNING mlflow.sklearn: Unrecognized dataset type <class 'pandas.core.series.Series'>. Dataset logging skipped.\n"
     ]
    },
    {
     "name": "stdout",
     "output_type": "stream",
     "text": [
      "Fitting 3 folds for each of 27 candidates, totalling 81 fits\n"
     ]
    },
    {
     "name": "stderr",
     "output_type": "stream",
     "text": [
      "2024/02/20 17:40:44 INFO mlflow.sklearn.utils: Logging the 5 best runs, 22 runs will be omitted.\n"
     ]
    },
    {
     "name": "stdout",
     "output_type": "stream",
     "text": [
      "Best Score: 0.985377372507203\n",
      "Best Hyperparameters: {'tfidf__max_features': 2000, 'xgb__max_depth': 6, 'xgb__n_estimators': 200}\n"
     ]
    }
   ],
   "source": [
    "pipeline = Pipeline([\n",
    "    ('tfidf', TfidfVectorizer()),\n",
    "    ('xgb', XGBClassifier(use_label_encoder=False, eval_metric='logloss', random_state=1)),\n",
    "])\n",
    "\n",
    "space = dict()\n",
    "space['tfidf__max_features'] = [1000, 2000, 5000]\n",
    "space['xgb__max_depth'] = [6, 10, 15]  # Common depths for XGBoost\n",
    "space['xgb__n_estimators'] = [100, 200, 300]  # Number of trees\n",
    "\n",
    "search = GridSearchCV(pipeline, space, cv=3, verbose=1, n_jobs=-1, scoring='accuracy')\n",
    "result = search.fit(pd.concat([train_X, val_X], axis=0), pd.concat([train_y, val_y], axis=0))\n",
    "\n",
    "print('Best Score: %s' % result.best_score_)\n",
    "print('Best Hyperparameters: %s' % result.best_params_)"
   ]
  },
  {
   "cell_type": "code",
   "execution_count": 22,
   "metadata": {},
   "outputs": [
    {
     "name": "stdout",
     "output_type": "stream",
     "text": [
      "\n",
      "XGBoost Model:\n",
      "Accuracy: 0.9834205933682374\n",
      "AUCPR: 0.9680409859648901\n",
      "Confusion Matrix:\n",
      " [[863  13]\n",
      " [  6 264]] \n",
      " \n",
      "\n"
     ]
    },
    {
     "name": "stderr",
     "output_type": "stream",
     "text": [
      "Registered model 'xgboost-classification-model' already exists. Creating a new version of this model...\n",
      "Created version '2' of model 'xgboost-classification-model'.\n"
     ]
    }
   ],
   "source": [
    "mlflow.sklearn.autolog()\n",
    "\n",
    "xgb_model = search.best_estimator_\n",
    "y_pred = xgb_model.predict(test_X)\n",
    "aucpr = eval_metrics(test_y, y_pred)\n",
    "acc = accuracy_score(test_y, y_pred)\n",
    "conf = confusion_matrix(test_y, y_pred)\n",
    "\n",
    "with mlflow.start_run(run_name=\"XGBoost Model\"):\n",
    "    mlflow.log_params(search.best_params_)\n",
    "    mlflow.log_metric(\"accuracy\", acc)\n",
    "    # mlflow.log_metric(\"AUCPR\", aucpr)\n",
    "    mlflow.log_dict(conf.tolist(), \"confusion_matrix.json\")\n",
    "    mlflow.sklearn.log_model(xgb_model, \"model\")\n",
    "\n",
    "    print(\"\\nXGBoost Model:\")\n",
    "    print(f\"Accuracy: {acc}\")\n",
    "    print(f\"AUCPR: {aucpr}\")\n",
    "    print(f\"Confusion Matrix:\\n {conf} \\n \\n\")\n",
    "\n",
    "tracking_url_type_store = urlparse(mlflow.get_tracking_uri()).scheme\n",
    "# Adjust the model logging based on your MLflow setup\n",
    "mlflow.sklearn.log_model(\n",
    "    sk_model=xgb_model,\n",
    "    artifact_path=\"xgboost-model\",\n",
    "    registered_model_name=\"xgboost-classification-model\"\n",
    ")\n",
    "\n",
    "if tracking_url_type_store != \"file\":\n",
    "    mlflow.sklearn.log_model(xgb_model, \"model\", registered_model_name=\"XGBoostClassifier\")\n",
    "else:\n",
    "    mlflow.sklearn.log_model(xgb_model, \"model\")"
   ]
  },
  {
   "cell_type": "markdown",
   "metadata": {},
   "source": [
    "Clearly, RandomForest has the overall best performance out of the three classifiers tested."
   ]
  },
  {
   "cell_type": "code",
   "execution_count": 23,
   "metadata": {},
   "outputs": [
    {
     "name": "stdout",
     "output_type": "stream",
     "text": [
      "              precision    recall  f1-score   support\n",
      "\n",
      "           0       0.99      0.99      0.99       872\n",
      "           1       0.98      0.96      0.97       274\n",
      "\n",
      "    accuracy                           0.99      1146\n",
      "   macro avg       0.98      0.98      0.98      1146\n",
      "weighted avg       0.99      0.99      0.99      1146\n",
      "\n"
     ]
    }
   ],
   "source": [
    "pred_y = rf.predict(test_X)\n",
    "print(classification_report(pred_y, test_y))"
   ]
  },
  {
   "cell_type": "code",
   "execution_count": 24,
   "metadata": {},
   "outputs": [
    {
     "data": {
      "image/png": "[encoded data removed]",
      "text/plain": [
       "<Figure size 640x480 with 2 Axes>"
      ]
     },
     "metadata": {},
     "output_type": "display_data"
    }
   ],
   "source": [
    "ConfusionMatrixDisplay.from_estimator(rf, test_X, test_y)\n",
    "plt.show()"
   ]
  }
 ],
 "metadata": {
  "kernelspec": {
   "display_name": "Python 3",
   "language": "python",
   "name": "python3"
  },
  "language_info": {
   "codemirror_mode": {
    "name": "ipython",
    "version": 3
   },
   "file_extension": ".py",
   "mimetype": "text/x-python",
   "name": "python",
   "nbconvert_exporter": "python",
   "pygments_lexer": "ipython3",
   "version": "3.11.7"
  }
 },
 "nbformat": 4,
 "nbformat_minor": 2
}

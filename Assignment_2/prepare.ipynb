{
 "cells": [
  {
   "cell_type": "code",
   "execution_count": 9,
   "metadata": {},
   "outputs": [],
   "source": [
    "import pandas as pd\n",
    "import matplotlib.pyplot as plt\n",
    "import seaborn as sns\n",
    "import string\n",
    "import re\n",
    "from spacy.lang.en import stop_words\n",
    "import nltk\n",
    "from nltk.stem import WordNetLemmatizer\n",
    "from collections import Counter\n",
    "from sklearn.model_selection import train_test_split"
   ]
  },
  {
   "cell_type": "code",
   "execution_count": 10,
   "metadata": {},
   "outputs": [
    {
     "name": "stderr",
     "output_type": "stream",
     "text": [
      "[nltk_data] Downloading package wordnet to\n",
      "[nltk_data]     C:\\Users\\sayan\\AppData\\Roaming\\nltk_data...\n"
     ]
    },
    {
     "data": {
      "text/plain": [
       "True"
      ]
     },
     "execution_count": 10,
     "metadata": {},
     "output_type": "execute_result"
    }
   ],
   "source": [
    "nltk.download('wordnet')"
   ]
  },
  {
   "cell_type": "code",
   "execution_count": 11,
   "metadata": {},
   "outputs": [
    {
     "data": {
      "text/html": [
       "<div>\n",
       "<style scoped>\n",
       "    .dataframe tbody tr th:only-of-type {\n",
       "        vertical-align: middle;\n",
       "    }\n",
       "\n",
       "    .dataframe tbody tr th {\n",
       "        vertical-align: top;\n",
       "    }\n",
       "\n",
       "    .dataframe thead th {\n",
       "        text-align: right;\n",
       "    }\n",
       "</style>\n",
       "<table border=\"1\" class=\"dataframe\">\n",
       "  <thead>\n",
       "    <tr style=\"text-align: right;\">\n",
       "      <th></th>\n",
       "      <th>text</th>\n",
       "      <th>spam</th>\n",
       "    </tr>\n",
       "  </thead>\n",
       "  <tbody>\n",
       "    <tr>\n",
       "      <th>0</th>\n",
       "      <td>Subject: naturally irresistible your corporate...</td>\n",
       "      <td>1</td>\n",
       "    </tr>\n",
       "    <tr>\n",
       "      <th>1</th>\n",
       "      <td>Subject: the stock trading gunslinger  fanny i...</td>\n",
       "      <td>1</td>\n",
       "    </tr>\n",
       "    <tr>\n",
       "      <th>2</th>\n",
       "      <td>Subject: unbelievable new homes made easy  im ...</td>\n",
       "      <td>1</td>\n",
       "    </tr>\n",
       "    <tr>\n",
       "      <th>3</th>\n",
       "      <td>Subject: 4 color printing special  request add...</td>\n",
       "      <td>1</td>\n",
       "    </tr>\n",
       "    <tr>\n",
       "      <th>4</th>\n",
       "      <td>Subject: do not have money , get software cds ...</td>\n",
       "      <td>1</td>\n",
       "    </tr>\n",
       "  </tbody>\n",
       "</table>\n",
       "</div>"
      ],
      "text/plain": [
       "                                                text  spam\n",
       "0  Subject: naturally irresistible your corporate...     1\n",
       "1  Subject: the stock trading gunslinger  fanny i...     1\n",
       "2  Subject: unbelievable new homes made easy  im ...     1\n",
       "3  Subject: 4 color printing special  request add...     1\n",
       "4  Subject: do not have money , get software cds ...     1"
      ]
     },
     "execution_count": 11,
     "metadata": {},
     "output_type": "execute_result"
    }
   ],
   "source": [
    "emails = pd.read_csv(r\"D:\\code\\AppliedML_assign_02\\Data\\emails.csv\")\n",
    "emails.head()"
   ]
  },
  {
   "cell_type": "markdown",
   "metadata": {},
   "source": [
    "Pre-Processing the Dataset:"
   ]
  },
  {
   "cell_type": "code",
   "execution_count": 12,
   "metadata": {},
   "outputs": [],
   "source": [
    "emails.text = emails.text.astype(str).map(lambda x:x[9:])\n",
    "emails.text = emails.text.str.replace('\\d', '')\n",
    "emails.text = emails.text.astype(str).map(lambda x:re.sub(r'http\\S+', '', x))\n",
    "emails.text = emails.text.astype(str).map(lambda x:re.sub(r\"\\S*@\\S*\\s?\",'', x))\n",
    "emails.text = emails.text.astype(str).map(lambda x:re.sub('\\W+',' ', x))\n",
    "emails.text = emails.text.map(lambda x:x.lower())\n",
    "emails.text = emails.text.map(lambda x:x.translate(str.maketrans('', '', string.punctuation)))"
   ]
  },
  {
   "cell_type": "code",
   "execution_count": 13,
   "metadata": {},
   "outputs": [],
   "source": [
    "stop_words = stop_words.STOP_WORDS\n",
    "emails.text = emails.text.map(lambda x: \" \".join(_ for _ in x.split() if _ not in stop_words))"
   ]
  },
  {
   "cell_type": "code",
   "execution_count": 14,
   "metadata": {},
   "outputs": [
    {
     "name": "stderr",
     "output_type": "stream",
     "text": [
      "[nltk_data] Downloading package omw-1.4 to\n",
      "[nltk_data]     C:\\Users\\sayan\\AppData\\Roaming\\nltk_data...\n"
     ]
    }
   ],
   "source": [
    "# Using lemmatization for getting the base words\n",
    "nltk.download('omw-1.4')\n",
    "lemmatizer = WordNetLemmatizer()\n",
    "emails.text = emails.text.map(lambda x: \" \".join(lemmatizer.lemmatize(_) for _ in x.split()))"
   ]
  },
  {
   "cell_type": "code",
   "execution_count": 15,
   "metadata": {},
   "outputs": [
    {
     "data": {
      "text/html": [
       "<div>\n",
       "<style scoped>\n",
       "    .dataframe tbody tr th:only-of-type {\n",
       "        vertical-align: middle;\n",
       "    }\n",
       "\n",
       "    .dataframe tbody tr th {\n",
       "        vertical-align: top;\n",
       "    }\n",
       "\n",
       "    .dataframe thead th {\n",
       "        text-align: right;\n",
       "    }\n",
       "</style>\n",
       "<table border=\"1\" class=\"dataframe\">\n",
       "  <thead>\n",
       "    <tr style=\"text-align: right;\">\n",
       "      <th></th>\n",
       "      <th>text</th>\n",
       "      <th>spam</th>\n",
       "    </tr>\n",
       "  </thead>\n",
       "  <tbody>\n",
       "    <tr>\n",
       "      <th>0</th>\n",
       "      <td>naturally irresistible corporate identity lt h...</td>\n",
       "      <td>1</td>\n",
       "    </tr>\n",
       "    <tr>\n",
       "      <th>1</th>\n",
       "      <td>stock trading gunslinger fanny merrill muzo co...</td>\n",
       "      <td>1</td>\n",
       "    </tr>\n",
       "    <tr>\n",
       "      <th>2</th>\n",
       "      <td>unbelievable new home easy im wanting homeowne...</td>\n",
       "      <td>1</td>\n",
       "    </tr>\n",
       "    <tr>\n",
       "      <th>3</th>\n",
       "      <td>color printing special request additional info...</td>\n",
       "      <td>1</td>\n",
       "    </tr>\n",
       "    <tr>\n",
       "      <th>4</th>\n",
       "      <td>money software cd software compatibility ain g...</td>\n",
       "      <td>1</td>\n",
       "    </tr>\n",
       "  </tbody>\n",
       "</table>\n",
       "</div>"
      ],
      "text/plain": [
       "                                                text  spam\n",
       "0  naturally irresistible corporate identity lt h...     1\n",
       "1  stock trading gunslinger fanny merrill muzo co...     1\n",
       "2  unbelievable new home easy im wanting homeowne...     1\n",
       "3  color printing special request additional info...     1\n",
       "4  money software cd software compatibility ain g...     1"
      ]
     },
     "execution_count": 15,
     "metadata": {},
     "output_type": "execute_result"
    }
   ],
   "source": [
    "combined_text = \" \".join(emails.text)\n",
    "vocab = Counter(combined_text.split())\n",
    "new_sw = list({key: value for key, value in vocab.items() if len(key) == 1}.keys())\n",
    "emails.text = emails.text.map(lambda x: \" \".join(_ for _ in x.split() if _ not in new_sw))\n",
    "emails.head()"
   ]
  },
  {
   "cell_type": "code",
   "execution_count": 16,
   "metadata": {},
   "outputs": [],
   "source": [
    "X, y = emails.text, emails.spam\n",
    "train_X, test_X, train_y, test_y = train_test_split(X, y, shuffle=True, train_size=0.8, random_state=1)\n",
    "train_X, val_X, train_y, val_y = train_test_split(train_X, train_y, shuffle=True, train_size=0.8, random_state=1)"
   ]
  },
  {
   "cell_type": "code",
   "execution_count": 17,
   "metadata": {},
   "outputs": [
    {
     "name": "stdout",
     "output_type": "stream",
     "text": [
      "Train set - number of 0s: 2791 & number of 1s: 874\n",
      "Validation set - number of 0s: 693 & number of 1s: 224\n",
      "Test set - number of 0s: 876 & number of 1s: 270\n"
     ]
    }
   ],
   "source": [
    "print(\"Train set - number of 0s:\", sum(train_y == 0), \"& number of 1s:\", sum(train_y == 1))\n",
    "print(\"Validation set - number of 0s:\", sum(val_y == 0), \"& number of 1s:\", sum(val_y== 1))\n",
    "print(\"Test set - number of 0s:\", sum(test_y== 0), \"& number of 1s:\", sum(test_y== 1))"
   ]
  },
  {
   "cell_type": "markdown",
   "metadata": {},
   "source": [
    "Datasets to csv:"
   ]
  },
  {
   "cell_type": "code",
   "execution_count": 18,
   "metadata": {},
   "outputs": [],
   "source": [
    "train_data = pd.concat([train_X, train_y], axis=1)\n",
    "train_data.to_csv(r'D:\\code\\AppliedML_assign_02\\Data\\train.csv', index=False)\n",
    "\n",
    "test_data = pd.concat([test_X, test_y], axis=1)\n",
    "test_data.to_csv(r'D:\\code\\AppliedML_assign_02\\Data\\test.csv', index=False)\n",
    "\n",
    "val_data = pd.concat([val_X, val_y], axis=1)\n",
    "val_data.to_csv(r'D:\\code\\AppliedML_assign_02\\Data\\validation.csv', index=False)"
   ]
  },
  {
   "cell_type": "code",
   "execution_count": 1,
   "metadata": {},
   "outputs": [
    {
     "name": "stdout",
     "output_type": "stream",
     "text": [
      "Initialized empty Git repository in D:/code/AppliedML_assign_02/.git/\n"
     ]
    }
   ],
   "source": [
    "!git init"
   ]
  },
  {
   "cell_type": "code",
   "execution_count": 2,
   "metadata": {},
   "outputs": [
    {
     "name": "stdout",
     "output_type": "stream",
     "text": [
      "Initialized DVC repository.\n",
      "\n",
      "You can now commit the changes to git.\n",
      "\n",
      "+---------------------------------------------------------------------+\n",
      "|                                                                     |\n",
      "|        DVC has enabled anonymous aggregate usage analytics.         |\n",
      "|     Read the analytics documentation (and how to opt-out) here:     |\n",
      "|             <https://dvc.org/doc/user-guide/analytics>              |\n",
      "|                                                                     |\n",
      "+---------------------------------------------------------------------+\n",
      "\n",
      "What's next?\n",
      "------------\n",
      "- Check out the documentation: <https://dvc.org/doc>\n",
      "- Get help and share ideas: <https://dvc.org/chat>\n",
      "- Star us on GitHub: <https://github.com/iterative/dvc>\n"
     ]
    }
   ],
   "source": [
    "!dvc init"
   ]
  },
  {
   "cell_type": "code",
   "execution_count": 6,
   "metadata": {},
   "outputs": [
    {
     "name": "stdout",
     "output_type": "stream",
     "text": [
      "\n",
      "To track the changes with git, run:\n",
      "\n",
      "\tgit add Data.dvc\n",
      "\n",
      "To enable auto staging, run:\n",
      "\n",
      "\tdvc config core.autostage true\n"
     ]
    },
    {
     "name": "stderr",
     "output_type": "stream",
     "text": [
      "⠋ Checking graph\n",
      "\n"
     ]
    },
    {
     "name": "stdout",
     "output_type": "stream",
     "text": [
      "[master (root-commit) cff330a] Tracking Data\n",
      " 4 files changed, 12 insertions(+)\n",
      " create mode 100644 .dvc/.gitignore\n",
      " create mode 100644 .dvc/config\n",
      " create mode 100644 .dvcignore\n",
      " create mode 100644 Data.dvc\n"
     ]
    }
   ],
   "source": [
    "! dvc add Data\n",
    "! git add Data.dvc\n",
    "! git commit -m \"Tracking Data\""
   ]
  },
  {
   "cell_type": "code",
   "execution_count": 21,
   "metadata": {},
   "outputs": [
    {
     "name": "stdout",
     "output_type": "stream",
     "text": [
      "Setting 'storage' as a default remote.\n",
      "Your browser has been opened to visit:\n",
      "\n",
      "    https://accounts.google.com/o/oauth2/auth?client_id=710796635688-iivsgbgsb6uv1fap6635dhvuei09o66c.apps.googleusercontent.com&redirect_uri=http%3A%2F%2Flocalhost%3A8080%2F&scope=https%3A%2F%2Fwww.googleapis.com%2Fauth%2Fdrive+https%3A%2F%2Fwww.googleapis.com%2Fauth%2Fdrive.appdata&access_type=offline&response_type=code&approval_prompt=force\n",
      "\n",
      "Authentication successful.\n",
      "2 files pushed\n"
     ]
    },
    {
     "name": "stderr",
     "output_type": "stream",
     "text": [
      "C:\\Users\\sayan\\AppData\\Local\\Programs\\Python\\Python311\\Lib\\site-packages\\oauth2client\\_helpers.py:255: UserWarning: Cannot access C:\\Users\\sayan\\AppData\\Local\\pydrive2fs\\Cache\\710796635688-iivsgbgsb6uv1fap6635dhvuei09o66c.apps.googleusercontent.com\\default.json: No such file or directory\n",
      "  warnings.warn(_MISSING_FILE_MESSAGE.format(filename))\n"
     ]
    }
   ],
   "source": [
    "! dvc remote add -df storage gdrive://1RyERR8UR6PufKeM7kh0-oxzsknqdFAwp\n",
    "! dvc push"
   ]
  },
  {
   "cell_type": "code",
   "execution_count": 22,
   "metadata": {},
   "outputs": [],
   "source": [
    "X, y = emails.text, emails.spam\n",
    "train_X, test_X, train_y, test_y = train_test_split(X, y, train_size=0.8, random_state=100)\n",
    "train_X, val_X, train_y, val_y = train_test_split(train_X, train_y, train_size=0.8, random_state=100)"
   ]
  },
  {
   "cell_type": "code",
   "execution_count": 23,
   "metadata": {},
   "outputs": [
    {
     "name": "stdout",
     "output_type": "stream",
     "text": [
      "Train set - number of 0s: 2818 & number of 1s: 847\n",
      "Validation set - number of 0s: 697 & number of 1s: 220\n",
      "Test set - number of 0s: 845 & number of 1s: 301\n"
     ]
    }
   ],
   "source": [
    "print(\"Train set - number of 0s:\", sum(train_y == 0), \"& number of 1s:\", sum(train_y == 1))\n",
    "print(\"Validation set - number of 0s:\", sum(val_y == 0), \"& number of 1s:\", sum(val_y== 1))\n",
    "print(\"Test set - number of 0s:\", sum(test_y== 0), \"& number of 1s:\", sum(test_y== 1))"
   ]
  },
  {
   "cell_type": "code",
   "execution_count": 24,
   "metadata": {},
   "outputs": [
    {
     "name": "stdout",
     "output_type": "stream",
     "text": [
      "\n",
      "To track the changes with git, run:\n",
      "\n",
      "\tgit add Data.dvc\n",
      "\n",
      "To enable auto staging, run:\n",
      "\n",
      "\tdvc config core.autostage true\n"
     ]
    },
    {
     "name": "stderr",
     "output_type": "stream",
     "text": [
      "⠋ Checking graph\n",
      "\n"
     ]
    },
    {
     "name": "stdout",
     "output_type": "stream",
     "text": [
      "[master 4de9dc4] Seed Changes\n",
      " 1 file changed, 3 insertions(+), 3 deletions(-)\n",
      "4 files pushed\n"
     ]
    }
   ],
   "source": [
    "! dvc add Data\n",
    "! git add Data.dvc\n",
    "! git commit -m \"Seed Changes\"\n",
    "! dvc push"
   ]
  },
  {
   "cell_type": "code",
   "execution_count": 25,
   "metadata": {},
   "outputs": [
    {
     "name": "stdout",
     "output_type": "stream",
     "text": [
      "4de9dc4 Seed Changes\n",
      "cff330a Tracking Data\n"
     ]
    }
   ],
   "source": [
    "! git log --oneline"
   ]
  },
  {
   "cell_type": "code",
   "execution_count": 26,
   "metadata": {},
   "outputs": [
    {
     "name": "stderr",
     "output_type": "stream",
     "text": [
      "Updated 0 paths from fc54450\n"
     ]
    }
   ],
   "source": [
    "! git fetch\n",
    "! git checkout HEAD Data.dvc      \n",
    "! dvc checkout     "
   ]
  },
  {
   "cell_type": "code",
   "execution_count": 27,
   "metadata": {},
   "outputs": [],
   "source": [
    "X, y = emails.text, emails.spam\n",
    "train_X, test_X, train_y, test_y = train_test_split(X, y, shuffle=True, train_size=0.8)\n",
    "train_X, val_X, train_y, val_y = train_test_split(train_X, train_y, shuffle=True, train_size=0.8)"
   ]
  },
  {
   "cell_type": "code",
   "execution_count": 28,
   "metadata": {},
   "outputs": [
    {
     "name": "stdout",
     "output_type": "stream",
     "text": [
      "Train set - number of 0s: 2810 & number of 1s: 855\n",
      "Validation set - number of 0s: 706 & number of 1s: 211\n",
      "Test set - number of 0s: 844 & number of 1s: 302\n"
     ]
    }
   ],
   "source": [
    "print(\"Train set - number of 0s:\", sum(train_y == 0), \"& number of 1s:\", sum(train_y == 1))\n",
    "print(\"Validation set - number of 0s:\", sum(val_y == 0), \"& number of 1s:\", sum(val_y== 1))\n",
    "print(\"Test set - number of 0s:\", sum(test_y== 0), \"& number of 1s:\", sum(test_y== 1))"
   ]
  },
  {
   "cell_type": "code",
   "execution_count": 29,
   "metadata": {},
   "outputs": [
    {
     "name": "stderr",
     "output_type": "stream",
     "text": [
      "Updated 0 paths from fc54450\n"
     ]
    }
   ],
   "source": [
    "! git checkout HEAD Data.dvc      \n",
    "! dvc checkout    "
   ]
  },
  {
   "cell_type": "code",
   "execution_count": 30,
   "metadata": {},
   "outputs": [],
   "source": [
    "X, y = emails.text, emails.spam\n",
    "train_X, test_X, train_y, test_y = train_test_split(X, y, shuffle=True, train_size=0.8)\n",
    "train_X, val_X, train_y, val_y = train_test_split(train_X, train_y, shuffle=True, train_size=0.8)"
   ]
  },
  {
   "cell_type": "code",
   "execution_count": 31,
   "metadata": {},
   "outputs": [
    {
     "name": "stdout",
     "output_type": "stream",
     "text": [
      "Train set - number of 0s: 2773 & number of 1s: 892\n",
      "Validation set - number of 0s: 698 & number of 1s: 219\n",
      "Test set - number of 0s: 889 & number of 1s: 257\n"
     ]
    }
   ],
   "source": [
    "print(\"Train set - number of 0s:\", sum(train_y == 0), \"& number of 1s:\", sum(train_y == 1))\n",
    "print(\"Validation set - number of 0s:\", sum(val_y == 0), \"& number of 1s:\", sum(val_y== 1))\n",
    "print(\"Test set - number of 0s:\", sum(test_y== 0), \"& number of 1s:\", sum(test_y== 1))"
   ]
  }
 ],
 "metadata": {
  "kernelspec": {
   "display_name": "Python 3",
   "language": "python",
   "name": "python3"
  },
  "language_info": {
   "codemirror_mode": {
    "name": "ipython",
    "version": 3
   },
   "file_extension": ".py",
   "mimetype": "text/x-python",
   "name": "python",
   "nbconvert_exporter": "python",
   "pygments_lexer": "ipython3",
   "version": "3.11.7"
  }
 },
 "nbformat": 4,
 "nbformat_minor": 2
}
